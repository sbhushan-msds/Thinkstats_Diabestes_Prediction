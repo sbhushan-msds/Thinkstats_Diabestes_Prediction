{
 "cells": [
  {
   "cell_type": "code",
   "execution_count": 59,
   "id": "77b4a6fd",
   "metadata": {},
   "outputs": [],
   "source": [
    "import pandas as pd\n",
    "import numpy as np"
   ]
  },
  {
   "cell_type": "code",
   "execution_count": 60,
   "id": "90f95ee6",
   "metadata": {},
   "outputs": [],
   "source": [
    "df=pd.read_csv('/Users/sbhus/OneDrive/Documents/MSDS/DSC 530/Project/diabetes.csv')"
   ]
  },
  {
   "cell_type": "code",
   "execution_count": 61,
   "id": "e6522085",
   "metadata": {},
   "outputs": [
    {
     "data": {
      "text/html": [
       "<div>\n",
       "<style scoped>\n",
       "    .dataframe tbody tr th:only-of-type {\n",
       "        vertical-align: middle;\n",
       "    }\n",
       "\n",
       "    .dataframe tbody tr th {\n",
       "        vertical-align: top;\n",
       "    }\n",
       "\n",
       "    .dataframe thead th {\n",
       "        text-align: right;\n",
       "    }\n",
       "</style>\n",
       "<table border=\"1\" class=\"dataframe\">\n",
       "  <thead>\n",
       "    <tr style=\"text-align: right;\">\n",
       "      <th></th>\n",
       "      <th>Pregnancies</th>\n",
       "      <th>Glucose</th>\n",
       "      <th>BloodPressure</th>\n",
       "      <th>SkinThickness</th>\n",
       "      <th>Insulin</th>\n",
       "      <th>BMI</th>\n",
       "      <th>DiabetesPedigreeFunction</th>\n",
       "      <th>Age</th>\n",
       "      <th>Outcome</th>\n",
       "    </tr>\n",
       "  </thead>\n",
       "  <tbody>\n",
       "    <tr>\n",
       "      <th>0</th>\n",
       "      <td>6</td>\n",
       "      <td>148</td>\n",
       "      <td>72</td>\n",
       "      <td>35</td>\n",
       "      <td>0</td>\n",
       "      <td>33.6</td>\n",
       "      <td>0.627</td>\n",
       "      <td>50</td>\n",
       "      <td>1</td>\n",
       "    </tr>\n",
       "    <tr>\n",
       "      <th>1</th>\n",
       "      <td>1</td>\n",
       "      <td>85</td>\n",
       "      <td>66</td>\n",
       "      <td>29</td>\n",
       "      <td>0</td>\n",
       "      <td>26.6</td>\n",
       "      <td>0.351</td>\n",
       "      <td>31</td>\n",
       "      <td>0</td>\n",
       "    </tr>\n",
       "    <tr>\n",
       "      <th>2</th>\n",
       "      <td>8</td>\n",
       "      <td>183</td>\n",
       "      <td>64</td>\n",
       "      <td>0</td>\n",
       "      <td>0</td>\n",
       "      <td>23.3</td>\n",
       "      <td>0.672</td>\n",
       "      <td>32</td>\n",
       "      <td>1</td>\n",
       "    </tr>\n",
       "    <tr>\n",
       "      <th>3</th>\n",
       "      <td>1</td>\n",
       "      <td>89</td>\n",
       "      <td>66</td>\n",
       "      <td>23</td>\n",
       "      <td>94</td>\n",
       "      <td>28.1</td>\n",
       "      <td>0.167</td>\n",
       "      <td>21</td>\n",
       "      <td>0</td>\n",
       "    </tr>\n",
       "    <tr>\n",
       "      <th>4</th>\n",
       "      <td>0</td>\n",
       "      <td>137</td>\n",
       "      <td>40</td>\n",
       "      <td>35</td>\n",
       "      <td>168</td>\n",
       "      <td>43.1</td>\n",
       "      <td>2.288</td>\n",
       "      <td>33</td>\n",
       "      <td>1</td>\n",
       "    </tr>\n",
       "  </tbody>\n",
       "</table>\n",
       "</div>"
      ],
      "text/plain": [
       "   Pregnancies  Glucose  BloodPressure  SkinThickness  Insulin   BMI  \\\n",
       "0            6      148             72             35        0  33.6   \n",
       "1            1       85             66             29        0  26.6   \n",
       "2            8      183             64              0        0  23.3   \n",
       "3            1       89             66             23       94  28.1   \n",
       "4            0      137             40             35      168  43.1   \n",
       "\n",
       "   DiabetesPedigreeFunction  Age  Outcome  \n",
       "0                     0.627   50        1  \n",
       "1                     0.351   31        0  \n",
       "2                     0.672   32        1  \n",
       "3                     0.167   21        0  \n",
       "4                     2.288   33        1  "
      ]
     },
     "execution_count": 61,
     "metadata": {},
     "output_type": "execute_result"
    }
   ],
   "source": [
    "df.head()"
   ]
  },
  {
   "cell_type": "code",
   "execution_count": 62,
   "id": "de1a92f6",
   "metadata": {},
   "outputs": [
    {
     "data": {
      "text/html": [
       "<div>\n",
       "<style scoped>\n",
       "    .dataframe tbody tr th:only-of-type {\n",
       "        vertical-align: middle;\n",
       "    }\n",
       "\n",
       "    .dataframe tbody tr th {\n",
       "        vertical-align: top;\n",
       "    }\n",
       "\n",
       "    .dataframe thead th {\n",
       "        text-align: right;\n",
       "    }\n",
       "</style>\n",
       "<table border=\"1\" class=\"dataframe\">\n",
       "  <thead>\n",
       "    <tr style=\"text-align: right;\">\n",
       "      <th></th>\n",
       "      <th>Pregnancies</th>\n",
       "      <th>Glucose</th>\n",
       "      <th>BloodPressure</th>\n",
       "      <th>SkinThickness</th>\n",
       "      <th>Insulin</th>\n",
       "      <th>BMI</th>\n",
       "      <th>DiabetesPedigreeFunction</th>\n",
       "      <th>Age</th>\n",
       "      <th>Outcome</th>\n",
       "    </tr>\n",
       "  </thead>\n",
       "  <tbody>\n",
       "    <tr>\n",
       "      <th>count</th>\n",
       "      <td>768.000000</td>\n",
       "      <td>768.000000</td>\n",
       "      <td>768.000000</td>\n",
       "      <td>768.000000</td>\n",
       "      <td>768.000000</td>\n",
       "      <td>768.000000</td>\n",
       "      <td>768.000000</td>\n",
       "      <td>768.000000</td>\n",
       "      <td>768.000000</td>\n",
       "    </tr>\n",
       "    <tr>\n",
       "      <th>mean</th>\n",
       "      <td>3.845052</td>\n",
       "      <td>120.894531</td>\n",
       "      <td>69.105469</td>\n",
       "      <td>20.536458</td>\n",
       "      <td>79.799479</td>\n",
       "      <td>31.992578</td>\n",
       "      <td>0.471876</td>\n",
       "      <td>33.240885</td>\n",
       "      <td>0.348958</td>\n",
       "    </tr>\n",
       "    <tr>\n",
       "      <th>std</th>\n",
       "      <td>3.369578</td>\n",
       "      <td>31.972618</td>\n",
       "      <td>19.355807</td>\n",
       "      <td>15.952218</td>\n",
       "      <td>115.244002</td>\n",
       "      <td>7.884160</td>\n",
       "      <td>0.331329</td>\n",
       "      <td>11.760232</td>\n",
       "      <td>0.476951</td>\n",
       "    </tr>\n",
       "    <tr>\n",
       "      <th>min</th>\n",
       "      <td>0.000000</td>\n",
       "      <td>0.000000</td>\n",
       "      <td>0.000000</td>\n",
       "      <td>0.000000</td>\n",
       "      <td>0.000000</td>\n",
       "      <td>0.000000</td>\n",
       "      <td>0.078000</td>\n",
       "      <td>21.000000</td>\n",
       "      <td>0.000000</td>\n",
       "    </tr>\n",
       "    <tr>\n",
       "      <th>25%</th>\n",
       "      <td>1.000000</td>\n",
       "      <td>99.000000</td>\n",
       "      <td>62.000000</td>\n",
       "      <td>0.000000</td>\n",
       "      <td>0.000000</td>\n",
       "      <td>27.300000</td>\n",
       "      <td>0.243750</td>\n",
       "      <td>24.000000</td>\n",
       "      <td>0.000000</td>\n",
       "    </tr>\n",
       "    <tr>\n",
       "      <th>50%</th>\n",
       "      <td>3.000000</td>\n",
       "      <td>117.000000</td>\n",
       "      <td>72.000000</td>\n",
       "      <td>23.000000</td>\n",
       "      <td>30.500000</td>\n",
       "      <td>32.000000</td>\n",
       "      <td>0.372500</td>\n",
       "      <td>29.000000</td>\n",
       "      <td>0.000000</td>\n",
       "    </tr>\n",
       "    <tr>\n",
       "      <th>75%</th>\n",
       "      <td>6.000000</td>\n",
       "      <td>140.250000</td>\n",
       "      <td>80.000000</td>\n",
       "      <td>32.000000</td>\n",
       "      <td>127.250000</td>\n",
       "      <td>36.600000</td>\n",
       "      <td>0.626250</td>\n",
       "      <td>41.000000</td>\n",
       "      <td>1.000000</td>\n",
       "    </tr>\n",
       "    <tr>\n",
       "      <th>max</th>\n",
       "      <td>17.000000</td>\n",
       "      <td>199.000000</td>\n",
       "      <td>122.000000</td>\n",
       "      <td>99.000000</td>\n",
       "      <td>846.000000</td>\n",
       "      <td>67.100000</td>\n",
       "      <td>2.420000</td>\n",
       "      <td>81.000000</td>\n",
       "      <td>1.000000</td>\n",
       "    </tr>\n",
       "  </tbody>\n",
       "</table>\n",
       "</div>"
      ],
      "text/plain": [
       "       Pregnancies     Glucose  BloodPressure  SkinThickness     Insulin  \\\n",
       "count   768.000000  768.000000     768.000000     768.000000  768.000000   \n",
       "mean      3.845052  120.894531      69.105469      20.536458   79.799479   \n",
       "std       3.369578   31.972618      19.355807      15.952218  115.244002   \n",
       "min       0.000000    0.000000       0.000000       0.000000    0.000000   \n",
       "25%       1.000000   99.000000      62.000000       0.000000    0.000000   \n",
       "50%       3.000000  117.000000      72.000000      23.000000   30.500000   \n",
       "75%       6.000000  140.250000      80.000000      32.000000  127.250000   \n",
       "max      17.000000  199.000000     122.000000      99.000000  846.000000   \n",
       "\n",
       "              BMI  DiabetesPedigreeFunction         Age     Outcome  \n",
       "count  768.000000                768.000000  768.000000  768.000000  \n",
       "mean    31.992578                  0.471876   33.240885    0.348958  \n",
       "std      7.884160                  0.331329   11.760232    0.476951  \n",
       "min      0.000000                  0.078000   21.000000    0.000000  \n",
       "25%     27.300000                  0.243750   24.000000    0.000000  \n",
       "50%     32.000000                  0.372500   29.000000    0.000000  \n",
       "75%     36.600000                  0.626250   41.000000    1.000000  \n",
       "max     67.100000                  2.420000   81.000000    1.000000  "
      ]
     },
     "execution_count": 62,
     "metadata": {},
     "output_type": "execute_result"
    }
   ],
   "source": [
    "df.describe()"
   ]
  },
  {
   "cell_type": "code",
   "execution_count": 63,
   "id": "ded4d95a",
   "metadata": {},
   "outputs": [],
   "source": [
    "from os.path import basename, exists\n",
    "\n",
    "\n",
    "def download(url):\n",
    "    filename = basename(url)\n",
    "    if not exists(filename):\n",
    "        from urllib.request import urlretrieve\n",
    "\n",
    "        local, _ = urlretrieve(url, filename)\n",
    "        print(\"Downloaded \" + local)"
   ]
  },
  {
   "cell_type": "code",
   "execution_count": 64,
   "id": "3d97647d",
   "metadata": {},
   "outputs": [],
   "source": [
    "download(\"https://github.com/AllenDowney/ThinkStats2/raw/master/code/thinkstats2.py\")\n",
    "download(\"https://github.com/AllenDowney/ThinkStats2/raw/master/code/thinkplot.py\")"
   ]
  },
  {
   "cell_type": "code",
   "execution_count": 65,
   "id": "26e2348b",
   "metadata": {},
   "outputs": [],
   "source": [
    "import thinkstats2\n",
    "import thinkplot"
   ]
  },
  {
   "cell_type": "code",
   "execution_count": 66,
   "id": "8783b22f",
   "metadata": {},
   "outputs": [
    {
     "name": "stdout",
     "output_type": "stream",
     "text": [
      "0 5\n",
      "44 1\n",
      "56 1\n",
      "57 2\n",
      "61 1\n",
      "62 1\n",
      "65 1\n",
      "67 1\n",
      "68 3\n",
      "71 4\n",
      "72 1\n",
      "73 3\n",
      "74 4\n",
      "75 2\n",
      "76 2\n",
      "77 2\n",
      "78 4\n",
      "79 3\n",
      "80 6\n",
      "81 6\n",
      "82 3\n",
      "83 6\n",
      "84 10\n",
      "85 7\n",
      "86 3\n",
      "87 7\n",
      "88 9\n",
      "89 6\n",
      "90 11\n",
      "91 9\n",
      "92 9\n",
      "93 7\n",
      "94 7\n",
      "95 13\n",
      "96 8\n",
      "97 9\n",
      "98 3\n",
      "99 17\n",
      "100 17\n",
      "101 9\n"
     ]
    },
    {
     "data": {
      "image/png": "[encoded data removed]",
      "text/plain": [
       "<Figure size 432x288 with 1 Axes>"
      ]
     },
     "metadata": {
      "needs_background": "light"
     },
     "output_type": "display_data"
    }
   ],
   "source": [
    "hist = thinkstats2.Hist(df.Glucose, label='Glucose')\n",
    "thinkplot.Hist(hist)\n",
    "thinkplot.Config(xlabel='Glucose (concentration)', ylabel='Count')\n",
    "# Outliers\n",
    "for glucose, freq in hist.Smallest(40):\n",
    "    print(glucose, freq)\n",
    "# Below 70 are outliers"
   ]
  },
  {
   "cell_type": "code",
   "execution_count": 67,
   "id": "e8765c96",
   "metadata": {},
   "outputs": [
    {
     "name": "stdout",
     "output_type": "stream",
     "text": [
      "Samllest 20\n",
      "0 35\n",
      "24 1\n",
      "30 2\n",
      "38 1\n",
      "40 1\n",
      "44 4\n",
      "46 2\n",
      "48 5\n",
      "50 13\n",
      "52 11\n",
      "54 11\n",
      "55 2\n",
      "56 12\n",
      "58 21\n",
      "60 37\n",
      "61 1\n",
      "62 34\n",
      "64 43\n",
      "65 7\n",
      "66 30\n",
      "Largest 20\n",
      "122 1\n",
      "114 1\n",
      "110 3\n",
      "108 2\n",
      "106 3\n",
      "104 2\n",
      "102 1\n",
      "100 3\n",
      "98 3\n",
      "96 4\n",
      "95 1\n",
      "94 6\n",
      "92 8\n",
      "90 22\n",
      "88 25\n",
      "86 21\n",
      "85 6\n",
      "84 23\n",
      "82 30\n",
      "80 40\n"
     ]
    },
    {
     "data": {
      "image/png": "[encoded data removed]",
      "text/plain": [
       "<Figure size 432x288 with 1 Axes>"
      ]
     },
     "metadata": {
      "needs_background": "light"
     },
     "output_type": "display_data"
    }
   ],
   "source": [
    "hist = thinkstats2.Hist(df.BloodPressure, label='BloodPressure')\n",
    "thinkplot.Hist(hist)\n",
    "thinkplot.Config(xlabel='Diastolic Blood Pressure (mm Hg)', ylabel='Count')\n",
    "# Outliers\n",
    "print(\"Samllest 20\")\n",
    "for BP, freq in hist.Smallest(20):\n",
    "    print(BP, freq)\n",
    "print(\"Largest 20\")\n",
    "for BP, freq in hist.Largest(20):\n",
    "    print(BP, freq)   \n",
    "# Below 50 and over 90 are outliers"
   ]
  },
  {
   "cell_type": "code",
   "execution_count": 68,
   "id": "8e43b91a",
   "metadata": {},
   "outputs": [
    {
     "name": "stdout",
     "output_type": "stream",
     "text": [
      "Samllest 40\n",
      "0 374\n",
      "14 1\n",
      "15 1\n",
      "16 1\n",
      "18 2\n",
      "22 1\n",
      "23 2\n",
      "25 1\n",
      "29 1\n",
      "32 1\n",
      "36 3\n",
      "37 2\n",
      "38 1\n",
      "40 2\n",
      "41 1\n",
      "42 1\n",
      "43 1\n",
      "44 3\n",
      "45 3\n",
      "46 1\n",
      "48 3\n",
      "49 5\n",
      "50 3\n",
      "51 1\n",
      "52 1\n",
      "53 2\n",
      "54 4\n",
      "55 2\n",
      "56 5\n",
      "57 2\n",
      "58 2\n",
      "59 1\n",
      "60 2\n",
      "61 1\n",
      "63 3\n",
      "64 4\n",
      "65 1\n",
      "66 5\n",
      "67 2\n",
      "68 1\n",
      "Largest 20\n",
      "846 1\n",
      "744 1\n",
      "680 1\n",
      "600 1\n",
      "579 1\n",
      "545 1\n",
      "543 1\n",
      "540 1\n",
      "510 1\n",
      "495 2\n",
      "485 1\n",
      "480 2\n",
      "478 1\n",
      "474 1\n",
      "465 1\n",
      "440 1\n",
      "415 1\n",
      "402 1\n",
      "392 1\n",
      "387 1\n"
     ]
    },
    {
     "data": {
      "image/png": "[encoded data removed]",
      "text/plain": [
       "<Figure size 432x288 with 1 Axes>"
      ]
     },
     "metadata": {
      "needs_background": "light"
     },
     "output_type": "display_data"
    }
   ],
   "source": [
    "hist = thinkstats2.Hist(df.Insulin, label='Insulin')\n",
    "thinkplot.Hist(hist)\n",
    "thinkplot.Config(xlabel='Insulin (mu U/ml)', ylabel='Count', ylim=[0, 10])\n",
    "# Outliers\n",
    "print(\"Samllest 40\")\n",
    "for Insulin, freq in hist.Smallest(40):\n",
    "    print(Insulin, freq)\n",
    "print(\"Largest 20\")\n",
    "for Insulin, freq in hist.Largest(20):\n",
    "    print(Insulin, freq)\n",
    "# Less than 50 and higher than 600 are outliers"
   ]
  },
  {
   "cell_type": "code",
   "execution_count": 69,
   "id": "c340d963",
   "metadata": {},
   "outputs": [
    {
     "name": "stdout",
     "output_type": "stream",
     "text": [
      "Samllest 20\n",
      "0.0 11\n",
      "18.2 3\n",
      "18.4 1\n",
      "19.1 1\n",
      "19.3 1\n",
      "19.4 1\n",
      "19.5 2\n",
      "19.6 3\n",
      "19.9 1\n",
      "20.0 1\n",
      "20.1 1\n",
      "20.4 2\n",
      "20.8 2\n",
      "21.0 2\n",
      "21.1 4\n",
      "21.2 1\n",
      "21.7 1\n",
      "21.8 5\n",
      "21.9 3\n",
      "22.1 2\n",
      "Largest 20\n",
      "67.1 1\n",
      "59.4 1\n",
      "57.3 1\n",
      "55.0 1\n",
      "53.2 1\n",
      "52.9 1\n",
      "52.3 2\n",
      "50.0 1\n",
      "49.7 1\n",
      "49.6 1\n",
      "49.3 1\n",
      "48.8 1\n",
      "48.3 1\n",
      "47.9 2\n",
      "46.8 2\n",
      "46.7 1\n",
      "46.5 1\n",
      "46.3 1\n",
      "46.2 2\n",
      "46.1 2\n"
     ]
    },
    {
     "data": {
      "image/png": "[encoded data removed]",
      "text/plain": [
       "<Figure size 432x288 with 1 Axes>"
      ]
     },
     "metadata": {
      "needs_background": "light"
     },
     "output_type": "display_data"
    }
   ],
   "source": [
    "hist = thinkstats2.Hist(df.BMI, label='BMI')\n",
    "thinkplot.Hist(hist)\n",
    "thinkplot.Config(xlabel='BMI (weight in kg/(height in m)^2)', ylabel='Count')\n",
    "# Outliers\n",
    "print(\"Samllest 20\")\n",
    "for BMI, freq in hist.Smallest(20):\n",
    "    print(BMI, freq)\n",
    "print(\"Largest 20\")\n",
    "for BMI, freq in hist.Largest(20):\n",
    "    print(BMI, freq)\n",
    "# Less than 18.2 are outliers"
   ]
  },
  {
   "cell_type": "code",
   "execution_count": 70,
   "id": "67c1cddc",
   "metadata": {},
   "outputs": [
    {
     "name": "stdout",
     "output_type": "stream",
     "text": [
      "Samllest 20\n",
      "21 63\n",
      "22 72\n",
      "23 38\n",
      "24 46\n",
      "25 48\n",
      "26 33\n",
      "27 32\n",
      "28 35\n",
      "29 29\n",
      "30 21\n",
      "31 24\n",
      "32 16\n",
      "33 17\n",
      "34 14\n",
      "35 10\n",
      "36 16\n",
      "37 19\n",
      "38 16\n",
      "39 12\n",
      "40 13\n",
      "Largest 20\n",
      "81 1\n",
      "72 1\n",
      "70 1\n",
      "69 2\n",
      "68 1\n",
      "67 3\n",
      "66 4\n",
      "65 3\n",
      "64 1\n",
      "63 4\n",
      "62 4\n",
      "61 2\n",
      "60 5\n",
      "59 3\n",
      "58 7\n",
      "57 5\n",
      "56 3\n",
      "55 4\n",
      "54 6\n",
      "53 5\n"
     ]
    },
    {
     "data": {
      "image/png": "[encoded data removed]",
      "text/plain": [
       "<Figure size 432x288 with 1 Axes>"
      ]
     },
     "metadata": {
      "needs_background": "light"
     },
     "output_type": "display_data"
    }
   ],
   "source": [
    "hist = thinkstats2.Hist(df.Age, label='Age')\n",
    "thinkplot.Hist(hist)\n",
    "thinkplot.Config(xlabel='Age (Years)', ylabel='Count')\n",
    "# Outliers\n",
    "print(\"Samllest 20\")\n",
    "for Age, freq in hist.Smallest(20):\n",
    "    print(Age, freq)\n",
    "print(\"Largest 20\")\n",
    "for Age, freq in hist.Largest(20):\n",
    "    print(Age, freq)\n",
    "# No outliers"
   ]
  },
  {
   "cell_type": "code",
   "execution_count": 71,
   "id": "b149578c",
   "metadata": {},
   "outputs": [
    {
     "data": {
      "text/plain": [
       "count    768.000000\n",
       "mean     120.894531\n",
       "std       31.972618\n",
       "min        0.000000\n",
       "25%       99.000000\n",
       "50%      117.000000\n",
       "75%      140.250000\n",
       "max      199.000000\n",
       "Name: Glucose, dtype: float64"
      ]
     },
     "execution_count": 71,
     "metadata": {},
     "output_type": "execute_result"
    }
   ],
   "source": [
    "df.Glucose.describe()"
   ]
  },
  {
   "cell_type": "code",
   "execution_count": 72,
   "id": "26069abb",
   "metadata": {},
   "outputs": [
    {
     "data": {
      "text/plain": [
       "0     99\n",
       "1    100\n",
       "Name: Glucose, dtype: int64"
      ]
     },
     "execution_count": 72,
     "metadata": {},
     "output_type": "execute_result"
    }
   ],
   "source": [
    "df.Glucose.mode()"
   ]
  },
  {
   "cell_type": "code",
   "execution_count": 73,
   "id": "e8d34635",
   "metadata": {},
   "outputs": [
    {
     "data": {
      "text/plain": [
       "763    101\n",
       "764    122\n",
       "765    121\n",
       "766    126\n",
       "767     93\n",
       "Name: Glucose, dtype: int64"
      ]
     },
     "execution_count": 73,
     "metadata": {},
     "output_type": "execute_result"
    }
   ],
   "source": [
    "df.Glucose.tail()"
   ]
  },
  {
   "cell_type": "code",
   "execution_count": 74,
   "id": "434fe6c4",
   "metadata": {},
   "outputs": [
    {
     "data": {
      "text/plain": [
       "count    768.000000\n",
       "mean      69.105469\n",
       "std       19.355807\n",
       "min        0.000000\n",
       "25%       62.000000\n",
       "50%       72.000000\n",
       "75%       80.000000\n",
       "max      122.000000\n",
       "Name: BloodPressure, dtype: float64"
      ]
     },
     "execution_count": 74,
     "metadata": {},
     "output_type": "execute_result"
    }
   ],
   "source": [
    "df.BloodPressure.describe()"
   ]
  },
  {
   "cell_type": "code",
   "execution_count": 75,
   "id": "89b72b6e",
   "metadata": {},
   "outputs": [
    {
     "data": {
      "text/plain": [
       "0    70\n",
       "Name: BloodPressure, dtype: int64"
      ]
     },
     "execution_count": 75,
     "metadata": {},
     "output_type": "execute_result"
    }
   ],
   "source": [
    "df.BloodPressure.mode()"
   ]
  },
  {
   "cell_type": "code",
   "execution_count": 76,
   "id": "9466cab7",
   "metadata": {},
   "outputs": [
    {
     "data": {
      "text/plain": [
       "763    76\n",
       "764    70\n",
       "765    72\n",
       "766    60\n",
       "767    70\n",
       "Name: BloodPressure, dtype: int64"
      ]
     },
     "execution_count": 76,
     "metadata": {},
     "output_type": "execute_result"
    }
   ],
   "source": [
    "df.BloodPressure.tail()"
   ]
  },
  {
   "cell_type": "code",
   "execution_count": 77,
   "id": "b5d50f1b",
   "metadata": {},
   "outputs": [
    {
     "data": {
      "text/plain": [
       "count    768.000000\n",
       "mean      79.799479\n",
       "std      115.244002\n",
       "min        0.000000\n",
       "25%        0.000000\n",
       "50%       30.500000\n",
       "75%      127.250000\n",
       "max      846.000000\n",
       "Name: Insulin, dtype: float64"
      ]
     },
     "execution_count": 77,
     "metadata": {},
     "output_type": "execute_result"
    }
   ],
   "source": [
    "df.Insulin.describe()"
   ]
  },
  {
   "cell_type": "code",
   "execution_count": 78,
   "id": "2d718f4a",
   "metadata": {},
   "outputs": [
    {
     "data": {
      "text/plain": [
       "0    0\n",
       "Name: Insulin, dtype: int64"
      ]
     },
     "execution_count": 78,
     "metadata": {},
     "output_type": "execute_result"
    }
   ],
   "source": [
    "df.Insulin.mode()"
   ]
  },
  {
   "cell_type": "code",
   "execution_count": 79,
   "id": "cafe1315",
   "metadata": {},
   "outputs": [
    {
     "data": {
      "text/plain": [
       "763    180\n",
       "764      0\n",
       "765    112\n",
       "766      0\n",
       "767      0\n",
       "Name: Insulin, dtype: int64"
      ]
     },
     "execution_count": 79,
     "metadata": {},
     "output_type": "execute_result"
    }
   ],
   "source": [
    "df.Insulin.tail()"
   ]
  },
  {
   "cell_type": "code",
   "execution_count": 80,
   "id": "cb0b1cdf",
   "metadata": {},
   "outputs": [
    {
     "data": {
      "text/plain": [
       "count    768.000000\n",
       "mean      31.992578\n",
       "std        7.884160\n",
       "min        0.000000\n",
       "25%       27.300000\n",
       "50%       32.000000\n",
       "75%       36.600000\n",
       "max       67.100000\n",
       "Name: BMI, dtype: float64"
      ]
     },
     "execution_count": 80,
     "metadata": {},
     "output_type": "execute_result"
    }
   ],
   "source": [
    "df.BMI.describe()"
   ]
  },
  {
   "cell_type": "code",
   "execution_count": 81,
   "id": "93b99d9f",
   "metadata": {},
   "outputs": [
    {
     "data": {
      "text/plain": [
       "0    32.0\n",
       "Name: BMI, dtype: float64"
      ]
     },
     "execution_count": 81,
     "metadata": {},
     "output_type": "execute_result"
    }
   ],
   "source": [
    "df.BMI.mode()"
   ]
  },
  {
   "cell_type": "code",
   "execution_count": 82,
   "id": "9d6eb65d",
   "metadata": {},
   "outputs": [
    {
     "data": {
      "text/plain": [
       "763    32.9\n",
       "764    36.8\n",
       "765    26.2\n",
       "766    30.1\n",
       "767    30.4\n",
       "Name: BMI, dtype: float64"
      ]
     },
     "execution_count": 82,
     "metadata": {},
     "output_type": "execute_result"
    }
   ],
   "source": [
    "df.BMI.tail()"
   ]
  },
  {
   "cell_type": "code",
   "execution_count": 83,
   "id": "65a4bf29",
   "metadata": {},
   "outputs": [
    {
     "data": {
      "text/plain": [
       "count    768.000000\n",
       "mean      33.240885\n",
       "std       11.760232\n",
       "min       21.000000\n",
       "25%       24.000000\n",
       "50%       29.000000\n",
       "75%       41.000000\n",
       "max       81.000000\n",
       "Name: Age, dtype: float64"
      ]
     },
     "execution_count": 83,
     "metadata": {},
     "output_type": "execute_result"
    }
   ],
   "source": [
    "df.Age.describe()"
   ]
  },
  {
   "cell_type": "code",
   "execution_count": 84,
   "id": "8c6600ac",
   "metadata": {},
   "outputs": [
    {
     "data": {
      "text/plain": [
       "0    22\n",
       "Name: Age, dtype: int64"
      ]
     },
     "execution_count": 84,
     "metadata": {},
     "output_type": "execute_result"
    }
   ],
   "source": [
    "df.Age.mode()"
   ]
  },
  {
   "cell_type": "code",
   "execution_count": 85,
   "id": "a2ab0d98",
   "metadata": {},
   "outputs": [
    {
     "data": {
      "text/plain": [
       "763    63\n",
       "764    27\n",
       "765    30\n",
       "766    47\n",
       "767    23\n",
       "Name: Age, dtype: int64"
      ]
     },
     "execution_count": 85,
     "metadata": {},
     "output_type": "execute_result"
    }
   ],
   "source": [
    "df.Age.tail()"
   ]
  },
  {
   "cell_type": "code",
   "execution_count": 86,
   "id": "51171100",
   "metadata": {},
   "outputs": [],
   "source": [
    "diabetic = df[df.Outcome == 1]\n",
    "nondiabetic = df[df.Outcome == 0]"
   ]
  },
  {
   "cell_type": "code",
   "execution_count": 87,
   "id": "8f24f57d",
   "metadata": {},
   "outputs": [
    {
     "data": {
      "text/html": [
       "<div>\n",
       "<style scoped>\n",
       "    .dataframe tbody tr th:only-of-type {\n",
       "        vertical-align: middle;\n",
       "    }\n",
       "\n",
       "    .dataframe tbody tr th {\n",
       "        vertical-align: top;\n",
       "    }\n",
       "\n",
       "    .dataframe thead th {\n",
       "        text-align: right;\n",
       "    }\n",
       "</style>\n",
       "<table border=\"1\" class=\"dataframe\">\n",
       "  <thead>\n",
       "    <tr style=\"text-align: right;\">\n",
       "      <th></th>\n",
       "      <th>Pregnancies</th>\n",
       "      <th>Glucose</th>\n",
       "      <th>BloodPressure</th>\n",
       "      <th>SkinThickness</th>\n",
       "      <th>Insulin</th>\n",
       "      <th>BMI</th>\n",
       "      <th>DiabetesPedigreeFunction</th>\n",
       "      <th>Age</th>\n",
       "      <th>Outcome</th>\n",
       "    </tr>\n",
       "  </thead>\n",
       "  <tbody>\n",
       "    <tr>\n",
       "      <th>0</th>\n",
       "      <td>6</td>\n",
       "      <td>148</td>\n",
       "      <td>72</td>\n",
       "      <td>35</td>\n",
       "      <td>0</td>\n",
       "      <td>33.6</td>\n",
       "      <td>0.627</td>\n",
       "      <td>50</td>\n",
       "      <td>1</td>\n",
       "    </tr>\n",
       "    <tr>\n",
       "      <th>2</th>\n",
       "      <td>8</td>\n",
       "      <td>183</td>\n",
       "      <td>64</td>\n",
       "      <td>0</td>\n",
       "      <td>0</td>\n",
       "      <td>23.3</td>\n",
       "      <td>0.672</td>\n",
       "      <td>32</td>\n",
       "      <td>1</td>\n",
       "    </tr>\n",
       "    <tr>\n",
       "      <th>4</th>\n",
       "      <td>0</td>\n",
       "      <td>137</td>\n",
       "      <td>40</td>\n",
       "      <td>35</td>\n",
       "      <td>168</td>\n",
       "      <td>43.1</td>\n",
       "      <td>2.288</td>\n",
       "      <td>33</td>\n",
       "      <td>1</td>\n",
       "    </tr>\n",
       "    <tr>\n",
       "      <th>6</th>\n",
       "      <td>3</td>\n",
       "      <td>78</td>\n",
       "      <td>50</td>\n",
       "      <td>32</td>\n",
       "      <td>88</td>\n",
       "      <td>31.0</td>\n",
       "      <td>0.248</td>\n",
       "      <td>26</td>\n",
       "      <td>1</td>\n",
       "    </tr>\n",
       "    <tr>\n",
       "      <th>8</th>\n",
       "      <td>2</td>\n",
       "      <td>197</td>\n",
       "      <td>70</td>\n",
       "      <td>45</td>\n",
       "      <td>543</td>\n",
       "      <td>30.5</td>\n",
       "      <td>0.158</td>\n",
       "      <td>53</td>\n",
       "      <td>1</td>\n",
       "    </tr>\n",
       "  </tbody>\n",
       "</table>\n",
       "</div>"
      ],
      "text/plain": [
       "   Pregnancies  Glucose  BloodPressure  SkinThickness  Insulin   BMI  \\\n",
       "0            6      148             72             35        0  33.6   \n",
       "2            8      183             64              0        0  23.3   \n",
       "4            0      137             40             35      168  43.1   \n",
       "6            3       78             50             32       88  31.0   \n",
       "8            2      197             70             45      543  30.5   \n",
       "\n",
       "   DiabetesPedigreeFunction  Age  Outcome  \n",
       "0                     0.627   50        1  \n",
       "2                     0.672   32        1  \n",
       "4                     2.288   33        1  \n",
       "6                     0.248   26        1  \n",
       "8                     0.158   53        1  "
      ]
     },
     "execution_count": 87,
     "metadata": {},
     "output_type": "execute_result"
    }
   ],
   "source": [
    "diabetic.head()"
   ]
  },
  {
   "cell_type": "code",
   "execution_count": 88,
   "id": "b6405f21",
   "metadata": {},
   "outputs": [
    {
     "data": {
      "text/html": [
       "<div>\n",
       "<style scoped>\n",
       "    .dataframe tbody tr th:only-of-type {\n",
       "        vertical-align: middle;\n",
       "    }\n",
       "\n",
       "    .dataframe tbody tr th {\n",
       "        vertical-align: top;\n",
       "    }\n",
       "\n",
       "    .dataframe thead th {\n",
       "        text-align: right;\n",
       "    }\n",
       "</style>\n",
       "<table border=\"1\" class=\"dataframe\">\n",
       "  <thead>\n",
       "    <tr style=\"text-align: right;\">\n",
       "      <th></th>\n",
       "      <th>Pregnancies</th>\n",
       "      <th>Glucose</th>\n",
       "      <th>BloodPressure</th>\n",
       "      <th>SkinThickness</th>\n",
       "      <th>Insulin</th>\n",
       "      <th>BMI</th>\n",
       "      <th>DiabetesPedigreeFunction</th>\n",
       "      <th>Age</th>\n",
       "      <th>Outcome</th>\n",
       "    </tr>\n",
       "  </thead>\n",
       "  <tbody>\n",
       "    <tr>\n",
       "      <th>1</th>\n",
       "      <td>1</td>\n",
       "      <td>85</td>\n",
       "      <td>66</td>\n",
       "      <td>29</td>\n",
       "      <td>0</td>\n",
       "      <td>26.6</td>\n",
       "      <td>0.351</td>\n",
       "      <td>31</td>\n",
       "      <td>0</td>\n",
       "    </tr>\n",
       "    <tr>\n",
       "      <th>3</th>\n",
       "      <td>1</td>\n",
       "      <td>89</td>\n",
       "      <td>66</td>\n",
       "      <td>23</td>\n",
       "      <td>94</td>\n",
       "      <td>28.1</td>\n",
       "      <td>0.167</td>\n",
       "      <td>21</td>\n",
       "      <td>0</td>\n",
       "    </tr>\n",
       "    <tr>\n",
       "      <th>5</th>\n",
       "      <td>5</td>\n",
       "      <td>116</td>\n",
       "      <td>74</td>\n",
       "      <td>0</td>\n",
       "      <td>0</td>\n",
       "      <td>25.6</td>\n",
       "      <td>0.201</td>\n",
       "      <td>30</td>\n",
       "      <td>0</td>\n",
       "    </tr>\n",
       "    <tr>\n",
       "      <th>7</th>\n",
       "      <td>10</td>\n",
       "      <td>115</td>\n",
       "      <td>0</td>\n",
       "      <td>0</td>\n",
       "      <td>0</td>\n",
       "      <td>35.3</td>\n",
       "      <td>0.134</td>\n",
       "      <td>29</td>\n",
       "      <td>0</td>\n",
       "    </tr>\n",
       "    <tr>\n",
       "      <th>10</th>\n",
       "      <td>4</td>\n",
       "      <td>110</td>\n",
       "      <td>92</td>\n",
       "      <td>0</td>\n",
       "      <td>0</td>\n",
       "      <td>37.6</td>\n",
       "      <td>0.191</td>\n",
       "      <td>30</td>\n",
       "      <td>0</td>\n",
       "    </tr>\n",
       "  </tbody>\n",
       "</table>\n",
       "</div>"
      ],
      "text/plain": [
       "    Pregnancies  Glucose  BloodPressure  SkinThickness  Insulin   BMI  \\\n",
       "1             1       85             66             29        0  26.6   \n",
       "3             1       89             66             23       94  28.1   \n",
       "5             5      116             74              0        0  25.6   \n",
       "7            10      115              0              0        0  35.3   \n",
       "10            4      110             92              0        0  37.6   \n",
       "\n",
       "    DiabetesPedigreeFunction  Age  Outcome  \n",
       "1                      0.351   31        0  \n",
       "3                      0.167   21        0  \n",
       "5                      0.201   30        0  \n",
       "7                      0.134   29        0  \n",
       "10                     0.191   30        0  "
      ]
     },
     "execution_count": 88,
     "metadata": {},
     "output_type": "execute_result"
    }
   ],
   "source": [
    "nondiabetic.head()"
   ]
  },
  {
   "cell_type": "code",
   "execution_count": 89,
   "id": "cb8bc366",
   "metadata": {},
   "outputs": [
    {
     "data": {
      "image/png": "[encoded data removed]",
      "text/plain": [
       "<Figure size 864x432 with 2 Axes>"
      ]
     },
     "metadata": {
      "needs_background": "light"
     },
     "output_type": "display_data"
    }
   ],
   "source": [
    "diabetic_pmf = thinkstats2.Pmf(diabetic.Glucose, label=\"Diabetic\")\n",
    "nondiabetic_pmf = thinkstats2.Pmf(nondiabetic.Glucose, label=\"Non_Diabetic\")\n",
    "width = 0.45\n",
    "thinkplot.PrePlot(2, cols=2)\n",
    "thinkplot.Hist(diabetic_pmf, align=\"right\", width=width)\n",
    "thinkplot.Hist(nondiabetic_pmf, align=\"left\", width=width)\n",
    "thinkplot.Config(xlabel=\"Glucose(Concentration)\", ylabel=\"PMF\")\n",
    "\n",
    "thinkplot.PrePlot(2)\n",
    "thinkplot.SubPlot(2)\n",
    "thinkplot.Pmfs([diabetic_pmf, nondiabetic_pmf])\n",
    "thinkplot.Config(xlabel=\"Glucose(Concentration)\")"
   ]
  },
  {
   "cell_type": "code",
   "execution_count": 90,
   "id": "3894c9c7",
   "metadata": {},
   "outputs": [
    {
     "data": {
      "image/png": "[encoded data removed]",
      "text/plain": [
       "<Figure size 432x288 with 1 Axes>"
      ]
     },
     "metadata": {
      "needs_background": "light"
     },
     "output_type": "display_data"
    },
    {
     "data": {
      "text/plain": [
       "<Figure size 576x432 with 0 Axes>"
      ]
     },
     "metadata": {},
     "output_type": "display_data"
    }
   ],
   "source": [
    "cdf = thinkstats2.Cdf(df.BloodPressure, label='Blood Pressure')\n",
    "thinkplot.Cdf(cdf)\n",
    "thinkplot.Show(xlabel='Diastolic Blood Pressure (mm Hg)', ylabel='CDF')\n",
    "# Very few people have their diastolic Blood Pressure below 50. Therefore, it is flat. About 80% of the people have \n",
    "# their diastolic Blood Pressure in the normal range, i.e., 80 mm Hg per recommended limit. \n",
    "# Therefore about 20% of the people are expected to have diabetes."
   ]
  },
  {
   "cell_type": "code",
   "execution_count": 91,
   "id": "567f6be9",
   "metadata": {},
   "outputs": [
    {
     "data": {
      "image/png": "[encoded data removed]",
      "text/plain": [
       "<Figure size 432x288 with 1 Axes>"
      ]
     },
     "metadata": {
      "needs_background": "light"
     },
     "output_type": "display_data"
    }
   ],
   "source": [
    "mean = df.BloodPressure.mean()\n",
    "std = df.BloodPressure.std()\n",
    "xs = [-5, 5]\n",
    "fxs, fys = thinkstats2.FitLine(xs, inter=mean, slope=std)\n",
    "thinkplot.Plot(fxs, fys, color='gray', label='model')\n",
    "xs, ys = thinkstats2.NormalProbability(df.BloodPressure)\n",
    "thinkplot.Plot(xs, ys, label='Blood Pressure')\n",
    "# The normal probability plot shows data is almost normal as it matches the model seen as the gray line"
   ]
  },
  {
   "cell_type": "code",
   "execution_count": 92,
   "id": "b6420fb8",
   "metadata": {},
   "outputs": [
    {
     "data": {
      "image/png": "[encoded data removed]",
      "text/plain": [
       "<Figure size 432x288 with 1 Axes>"
      ]
     },
     "metadata": {
      "needs_background": "light"
     },
     "output_type": "display_data"
    },
    {
     "data": {
      "text/plain": [
       "<Figure size 576x432 with 0 Axes>"
      ]
     },
     "metadata": {},
     "output_type": "display_data"
    }
   ],
   "source": [
    "thinkplot.Scatter(df.BloodPressure, df.Age)\n",
    "thinkplot.Show(xlabel='Blood Pressure',\n",
    "ylabel='Age',\n",
    "axis=[0, 125, 20, 90])\n",
    "# Blood Pressure and Age are +vely corellated but strength of relationship is weak. It can be non-linerarly correlated."
   ]
  },
  {
   "cell_type": "code",
   "execution_count": 93,
   "id": "055cb769",
   "metadata": {},
   "outputs": [],
   "source": [
    "def Cov(xs, ys, meanx=None, meany=None):\n",
    "    xs = np.asarray(xs)\n",
    "    ys = np.asarray(ys)\n",
    "\n",
    "    if meanx is None:\n",
    "        meanx = np.mean(xs)\n",
    "    if meany is None:\n",
    "        meany = np.mean(ys)\n",
    "\n",
    "    cov = np.dot(xs-meanx, ys-meany) / len(xs)\n",
    "    return cov"
   ]
  },
  {
   "cell_type": "code",
   "execution_count": 94,
   "id": "c21ec41c",
   "metadata": {},
   "outputs": [],
   "source": [
    "def Corr(xs, ys):\n",
    "    xs = np.asarray(xs)\n",
    "    ys = np.asarray(ys)\n",
    "\n",
    "    meanx, varx = thinkstats2.MeanVar(xs)\n",
    "    meany, vary = thinkstats2.MeanVar(ys)\n",
    "\n",
    "    corr = Cov(xs, ys, meanx, meany) / np.sqrt(varx * vary)\n",
    "    return corr"
   ]
  },
  {
   "cell_type": "code",
   "execution_count": 95,
   "id": "f20b61aa",
   "metadata": {},
   "outputs": [
    {
     "data": {
      "text/plain": [
       "54.45245869954427"
      ]
     },
     "execution_count": 95,
     "metadata": {},
     "output_type": "execute_result"
    }
   ],
   "source": [
    "Cov(df.BloodPressure, df.Age)"
   ]
  },
  {
   "cell_type": "code",
   "execution_count": 96,
   "id": "9b893dfe",
   "metadata": {},
   "outputs": [
    {
     "data": {
      "text/plain": [
       "0.23952794642136355"
      ]
     },
     "execution_count": 96,
     "metadata": {},
     "output_type": "execute_result"
    }
   ],
   "source": [
    "Corr(df.BloodPressure, df.Age)"
   ]
  },
  {
   "cell_type": "code",
   "execution_count": 97,
   "id": "22193b9f",
   "metadata": {},
   "outputs": [
    {
     "data": {
      "image/png": "[encoded data removed]",
      "text/plain": [
       "<Figure size 432x288 with 1 Axes>"
      ]
     },
     "metadata": {
      "needs_background": "light"
     },
     "output_type": "display_data"
    },
    {
     "data": {
      "text/plain": [
       "<Figure size 576x432 with 0 Axes>"
      ]
     },
     "metadata": {},
     "output_type": "display_data"
    }
   ],
   "source": [
    "thinkplot.Scatter(df.BloodPressure, df.Insulin)\n",
    "thinkplot.Show(xlabel='Blood Pressure',\n",
    "ylabel='Insulin',\n",
    "axis=[0, 125, 0, 850])\n",
    "# Blood Pressure and Insulin levels seem to be +vely correlated but strength of relationship is very less.\n",
    "# It can be non-linerarly correlated."
   ]
  },
  {
   "cell_type": "code",
   "execution_count": 98,
   "id": "26ed2dfc",
   "metadata": {},
   "outputs": [
    {
     "data": {
      "text/plain": [
       "198.12010701497397"
      ]
     },
     "execution_count": 98,
     "metadata": {},
     "output_type": "execute_result"
    }
   ],
   "source": [
    "Cov(df.BloodPressure, df.Insulin)"
   ]
  },
  {
   "cell_type": "code",
   "execution_count": 99,
   "id": "5ff87417",
   "metadata": {},
   "outputs": [
    {
     "data": {
      "text/plain": [
       "0.08893337837319301"
      ]
     },
     "execution_count": 99,
     "metadata": {},
     "output_type": "execute_result"
    }
   ],
   "source": [
    "Corr(df.BloodPressure, df.Insulin)"
   ]
  },
  {
   "cell_type": "code",
   "execution_count": 108,
   "id": "c193dbca",
   "metadata": {},
   "outputs": [],
   "source": [
    "class DiffMeansPermute(thinkstats2.HypothesisTest):\n",
    "\n",
    "    def TestStatistic(self, data):\n",
    "        group1, group2 = data\n",
    "        test_stat = abs(group1.mean() - group2.mean())\n",
    "        return test_stat\n",
    "\n",
    "    def MakeModel(self):\n",
    "        group1, group2 = self.data\n",
    "        self.n, self.m = len(group1), len(group2)\n",
    "        self.pool = np.hstack((group1, group2))\n",
    "\n",
    "    def RunModel(self):\n",
    "        np.random.shuffle(self.pool)\n",
    "        data = self.pool[:self.n], self.pool[self.n:]\n",
    "        return data"
   ]
  },
  {
   "cell_type": "code",
   "execution_count": 112,
   "id": "c01b6bb9",
   "metadata": {},
   "outputs": [
    {
     "data": {
      "text/plain": [
       "0.0"
      ]
     },
     "execution_count": 112,
     "metadata": {},
     "output_type": "execute_result"
    }
   ],
   "source": [
    "data = diabetic.BMI.values, nondiabetic.BMI.values\n",
    "ht = DiffMeansPermute(data)\n",
    "pvalue = ht.PValue()\n",
    "pvalue"
   ]
  },
  {
   "cell_type": "code",
   "execution_count": null,
   "id": "4353718b",
   "metadata": {},
   "outputs": [],
   "source": [
    "# pvalue indicates that we expect to see a difference as big as the observed effect about 0% of the time. \n",
    "# Result is statistically significant."
   ]
  },
  {
   "cell_type": "code",
   "execution_count": 113,
   "id": "58983eb5",
   "metadata": {},
   "outputs": [
    {
     "name": "stdout",
     "output_type": "stream",
     "text": [
      "Optimization terminated successfully.\n",
      "         Current function value: 0.487090\n",
      "         Iterations 6\n"
     ]
    },
    {
     "data": {
      "text/html": [
       "<table class=\"simpletable\">\n",
       "<caption>Logit Regression Results</caption>\n",
       "<tr>\n",
       "  <th>Dep. Variable:</th>       <td>diabetic</td>     <th>  No. Observations:  </th>  <td>   768</td>  \n",
       "</tr>\n",
       "<tr>\n",
       "  <th>Model:</th>                 <td>Logit</td>      <th>  Df Residuals:      </th>  <td>   762</td>  \n",
       "</tr>\n",
       "<tr>\n",
       "  <th>Method:</th>                 <td>MLE</td>       <th>  Df Model:          </th>  <td>     5</td>  \n",
       "</tr>\n",
       "<tr>\n",
       "  <th>Date:</th>            <td>Thu, 11 Aug 2022</td> <th>  Pseudo R-squ.:     </th>  <td>0.2469</td>  \n",
       "</tr>\n",
       "<tr>\n",
       "  <th>Time:</th>                <td>20:52:52</td>     <th>  Log-Likelihood:    </th> <td> -374.09</td> \n",
       "</tr>\n",
       "<tr>\n",
       "  <th>converged:</th>             <td>True</td>       <th>  LL-Null:           </th> <td> -496.74</td> \n",
       "</tr>\n",
       "<tr>\n",
       "  <th>Covariance Type:</th>     <td>nonrobust</td>    <th>  LLR p-value:       </th> <td>5.566e-51</td>\n",
       "</tr>\n",
       "</table>\n",
       "<table class=\"simpletable\">\n",
       "<tr>\n",
       "          <td></td>            <th>coef</th>     <th>std err</th>      <th>z</th>      <th>P>|z|</th>  <th>[0.025</th>    <th>0.975]</th>  \n",
       "</tr>\n",
       "<tr>\n",
       "  <th>Intercept</th>        <td>   -8.0932</td> <td>    0.692</td> <td>  -11.698</td> <td> 0.000</td> <td>   -9.449</td> <td>   -6.737</td>\n",
       "</tr>\n",
       "<tr>\n",
       "  <th>df.Glucose</th>       <td>    0.0344</td> <td>    0.004</td> <td>    9.621</td> <td> 0.000</td> <td>    0.027</td> <td>    0.041</td>\n",
       "</tr>\n",
       "<tr>\n",
       "  <th>df.BloodPressure</th> <td>   -0.0122</td> <td>    0.005</td> <td>   -2.388</td> <td> 0.017</td> <td>   -0.022</td> <td>   -0.002</td>\n",
       "</tr>\n",
       "<tr>\n",
       "  <th>df.Insulin</th>       <td>   -0.0010</td> <td>    0.001</td> <td>   -1.196</td> <td> 0.232</td> <td>   -0.003</td> <td>    0.001</td>\n",
       "</tr>\n",
       "<tr>\n",
       "  <th>df.BMI</th>           <td>    0.0908</td> <td>    0.014</td> <td>    6.404</td> <td> 0.000</td> <td>    0.063</td> <td>    0.119</td>\n",
       "</tr>\n",
       "<tr>\n",
       "  <th>df.Age</th>           <td>    0.0331</td> <td>    0.008</td> <td>    4.133</td> <td> 0.000</td> <td>    0.017</td> <td>    0.049</td>\n",
       "</tr>\n",
       "</table>"
      ],
      "text/plain": [
       "<class 'statsmodels.iolib.summary.Summary'>\n",
       "\"\"\"\n",
       "                           Logit Regression Results                           \n",
       "==============================================================================\n",
       "Dep. Variable:               diabetic   No. Observations:                  768\n",
       "Model:                          Logit   Df Residuals:                      762\n",
       "Method:                           MLE   Df Model:                            5\n",
       "Date:                Thu, 11 Aug 2022   Pseudo R-squ.:                  0.2469\n",
       "Time:                        20:52:52   Log-Likelihood:                -374.09\n",
       "converged:                       True   LL-Null:                       -496.74\n",
       "Covariance Type:            nonrobust   LLR p-value:                 5.566e-51\n",
       "====================================================================================\n",
       "                       coef    std err          z      P>|z|      [0.025      0.975]\n",
       "------------------------------------------------------------------------------------\n",
       "Intercept           -8.0932      0.692    -11.698      0.000      -9.449      -6.737\n",
       "df.Glucose           0.0344      0.004      9.621      0.000       0.027       0.041\n",
       "df.BloodPressure    -0.0122      0.005     -2.388      0.017      -0.022      -0.002\n",
       "df.Insulin          -0.0010      0.001     -1.196      0.232      -0.003       0.001\n",
       "df.BMI               0.0908      0.014      6.404      0.000       0.063       0.119\n",
       "df.Age               0.0331      0.008      4.133      0.000       0.017       0.049\n",
       "====================================================================================\n",
       "\"\"\""
      ]
     },
     "execution_count": 113,
     "metadata": {},
     "output_type": "execute_result"
    }
   ],
   "source": [
    "import statsmodels.formula.api as smf\n",
    "df['diabetic'] = (df.Outcome ==1).astype(int)\n",
    "formula = 'diabetic ~ df.Glucose + df.BloodPressure + df.Insulin + df.BMI + df.Age'\n",
    "model = smf.logit(formula, data=df)\n",
    "results = model.fit()\n",
    "results.summary()"
   ]
  },
  {
   "cell_type": "code",
   "execution_count": null,
   "id": "88106eef",
   "metadata": {},
   "outputs": [],
   "source": [
    "# As evident from the pvalues Glucose, BloodPressure, BMI, and Age are statistically significant in predicting diabetes if \n",
    "# we consider alpha to be 5%."
   ]
  }
 ],
 "metadata": {
  "kernelspec": {
   "display_name": "Python 3 (ipykernel)",
   "language": "python",
   "name": "python3"
  },
  "language_info": {
   "codemirror_mode": {
    "name": "ipython",
    "version": 3
   },
   "file_extension": ".py",
   "mimetype": "text/x-python",
   "name": "python",
   "nbconvert_exporter": "python",
   "pygments_lexer": "ipython3",
   "version": "3.11.7"
  }
 },
 "nbformat": 4,
 "nbformat_minor": 5
}
